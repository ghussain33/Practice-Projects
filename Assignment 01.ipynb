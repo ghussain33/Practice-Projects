{
 "cells": [
  {
   "cell_type": "markdown",
   "metadata": {},
   "source": [
    "<img src=\"http://cfs22.simplicdn.net/ice9/new_logo.svgz \"/>\n",
    "\n",
    "# Assignment 01: Evaluate the GDP Dataset\n",
    "\n",
    "*The comments/sections provided are your cues to perform the assignment. You don't need to limit yourself to the number of rows/cells provided. You can add additional rows in each section to add more lines of code.*\n",
    "\n",
    "*If at any point in time you need help on solving this assignment, view our demo video to understand the different steps of the code.*\n",
    "\n",
    "**Happy coding!**\n",
    "\n",
    "* * *"
   ]
  },
  {
   "cell_type": "markdown",
   "metadata": {},
   "source": [
    "#### 1: View and add the dataset"
   ]
  },
  {
   "cell_type": "code",
   "execution_count": 8,
   "metadata": {},
   "outputs": [],
   "source": [
    "#Import required library\n",
    "import numpy as np\n",
    "import pandas as pd"
   ]
  },
  {
   "cell_type": "code",
   "execution_count": 11,
   "metadata": {},
   "outputs": [],
   "source": [
    "#Manually add the dataset\n",
    "countries = np.array(['Algeria','Angola','Argentina','Australia','Austria','Bahamas','Bangladesh','Belarus','Belgium',\n",
    "              'Bhutan','Brazil','Bulgaria','Cambodia','Cameroon','Chile','China','Colombia','Cyprus','Denmark','El Salvador',\n",
    "              'Estonia','Ethiopia','Fiji','Finland','France','Georgia','Ghana','Grenada','Guinea','Haiti','Honduras',\n",
    "              'Hungary','India','Indonesia','Ireland','Italy','Japan','Kenya', 'South Korea','Liberia','Malaysia','Mexico',\n",
    "              'Morocco','Nepal','New Zealand','Norway','Pakistan', 'Peru','Qatar','Russia','Singapore','South Africa','Spain',\n",
    "              'Sweden','Switzerland','Thailand', 'United Arab Emirates','United Kingdom','United States','Uruguay',\n",
    "              'Venezuela','Vietnam','Zimbabwe'])\n",
    "gdp =np.array([2255.225482,629.9553062,11601.63022,25306.82494,27266.40335,19466.99052,588.3691778,2890.345675,24733.62696,\n",
    "       1445.760002,4803.398244,2618.876037,590.4521124,665.7982328,7122.938458,2639.54156,3362.4656,15378.16704,\n",
    "       30860.12808,2579.115607,6525.541272,229.6769525,2242.689259,27570.4852,23016.84778,1334.646773,402.6953275,\n",
    "       6047.200797,394.1156638,385.5793827,1414.072488,5745.981529,837.7464011,1206.991065,27715.52837,18937.24998,\n",
    "       39578.07441,478.2194906,16684.21278,279.2204061,5345.213415,6288.25324,1908.304416,274.8728621,14646.42094,\n",
    "       40034.85063,672.1547506,3359.517402,36152.66676,3054.727742,33529.83052,3825.093781,15428.32098,33630.24604,\n",
    "       39170.41371,2699.123242,21058.43643,28272.40661,37691.02733,9581.05659,5671.912202,757.4009286,347.7456605])"
   ]
  },
  {
   "cell_type": "markdown",
   "metadata": {
    "collapsed": true
   },
   "source": [
    "#### 2: Find and print the name of the country with the highest GDP"
   ]
  },
  {
   "cell_type": "code",
   "execution_count": 18,
   "metadata": {},
   "outputs": [],
   "source": [
    "#Use the argmax() method to find the highest GDP\n",
    "highest_gdp = gdp.argmax()\n",
    "country_highest_gdp = countries[highest_gdp]\n"
   ]
  },
  {
   "cell_type": "code",
   "execution_count": 19,
   "metadata": {},
   "outputs": [
    {
     "data": {
      "text/plain": [
       "'Norway'"
      ]
     },
     "execution_count": 19,
     "metadata": {},
     "output_type": "execute_result"
    }
   ],
   "source": [
    "#Print the name of the country\n",
    "country_highest_gdp"
   ]
  },
  {
   "cell_type": "markdown",
   "metadata": {},
   "source": [
    "#### 3: Find and print the name of the country with the lowest GDP"
   ]
  },
  {
   "cell_type": "code",
   "execution_count": 21,
   "metadata": {},
   "outputs": [],
   "source": [
    "#Use the argmin() method to find the lowest GDP\n",
    "lowest_gdp = gdp.argmin()\n",
    "country_lowest_gdp = countries[lowest_gdp]"
   ]
  },
  {
   "cell_type": "code",
   "execution_count": 22,
   "metadata": {},
   "outputs": [
    {
     "data": {
      "text/plain": [
       "'Ethiopia'"
      ]
     },
     "execution_count": 22,
     "metadata": {},
     "output_type": "execute_result"
    }
   ],
   "source": [
    "#Print the name of the country\n",
    "country_lowest_gdp"
   ]
  },
  {
   "cell_type": "markdown",
   "metadata": {},
   "source": [
    "#### 4: Print out text ('evaluating country') and input value ('country name') iteratively"
   ]
  },
  {
   "cell_type": "code",
   "execution_count": 30,
   "metadata": {},
   "outputs": [
    {
     "name": "stdout",
     "output_type": "stream",
     "text": [
      "evaluating country  Algeria\n",
      "evaluating country  Angola\n",
      "evaluating country  Argentina\n",
      "evaluating country  Australia\n",
      "evaluating country  Austria\n",
      "evaluating country  Bahamas\n",
      "evaluating country  Bangladesh\n",
      "evaluating country  Belarus\n",
      "evaluating country  Belgium\n",
      "evaluating country  Bhutan\n",
      "evaluating country  Brazil\n",
      "evaluating country  Bulgaria\n",
      "evaluating country  Cambodia\n",
      "evaluating country  Cameroon\n",
      "evaluating country  Chile\n",
      "evaluating country  China\n",
      "evaluating country  Colombia\n",
      "evaluating country  Cyprus\n",
      "evaluating country  Denmark\n",
      "evaluating country  El Salvador\n",
      "evaluating country  Estonia\n",
      "evaluating country  Ethiopia\n",
      "evaluating country  Fiji\n",
      "evaluating country  Finland\n",
      "evaluating country  France\n",
      "evaluating country  Georgia\n",
      "evaluating country  Ghana\n",
      "evaluating country  Grenada\n",
      "evaluating country  Guinea\n",
      "evaluating country  Haiti\n",
      "evaluating country  Honduras\n",
      "evaluating country  Hungary\n",
      "evaluating country  India\n",
      "evaluating country  Indonesia\n",
      "evaluating country  Ireland\n",
      "evaluating country  Italy\n",
      "evaluating country  Japan\n",
      "evaluating country  Kenya\n",
      "evaluating country  South Korea\n",
      "evaluating country  Liberia\n",
      "evaluating country  Malaysia\n",
      "evaluating country  Mexico\n",
      "evaluating country  Morocco\n",
      "evaluating country  Nepal\n",
      "evaluating country  New Zealand\n",
      "evaluating country  Norway\n",
      "evaluating country  Pakistan\n",
      "evaluating country  Peru\n",
      "evaluating country  Qatar\n",
      "evaluating country  Russia\n",
      "evaluating country  Singapore\n",
      "evaluating country  South Africa\n",
      "evaluating country  Spain\n",
      "evaluating country  Sweden\n",
      "evaluating country  Switzerland\n",
      "evaluating country  Thailand\n",
      "evaluating country  United Arab Emirates\n",
      "evaluating country  United Kingdom\n",
      "evaluating country  United States\n",
      "evaluating country  Uruguay\n",
      "evaluating country  Venezuela\n",
      "evaluating country  Vietnam\n",
      "evaluating country  Zimbabwe\n"
     ]
    }
   ],
   "source": [
    "#Use a for loop to print the required output\n",
    "for country in countries:\n",
    "    print('evaluating country ', country)"
   ]
  },
  {
   "cell_type": "markdown",
   "metadata": {},
   "source": [
    "#### 5: Print out the entire list of the countries with their GDPs"
   ]
  },
  {
   "cell_type": "code",
   "execution_count": 34,
   "metadata": {},
   "outputs": [
    {
     "name": "stdout",
     "output_type": "stream",
     "text": [
      "Country Algeria has a GDP of 2255.225482\n",
      "Country Angola has a GDP of 629.9553062\n",
      "Country Argentina has a GDP of 11601.63022\n",
      "Country Australia has a GDP of 25306.82494\n",
      "Country Austria has a GDP of 27266.40335\n",
      "Country Bahamas has a GDP of 19466.99052\n",
      "Country Bangladesh has a GDP of 588.3691778\n",
      "Country Belarus has a GDP of 2890.345675\n",
      "Country Belgium has a GDP of 24733.62696\n",
      "Country Bhutan has a GDP of 1445.760002\n",
      "Country Brazil has a GDP of 4803.398244\n",
      "Country Bulgaria has a GDP of 2618.876037\n",
      "Country Cambodia has a GDP of 590.4521124\n",
      "Country Cameroon has a GDP of 665.7982328\n",
      "Country Chile has a GDP of 7122.938458\n",
      "Country China has a GDP of 2639.54156\n",
      "Country Colombia has a GDP of 3362.4656\n",
      "Country Cyprus has a GDP of 15378.16704\n",
      "Country Denmark has a GDP of 30860.12808\n",
      "Country El Salvador has a GDP of 2579.115607\n",
      "Country Estonia has a GDP of 6525.541272\n",
      "Country Ethiopia has a GDP of 229.6769525\n",
      "Country Fiji has a GDP of 2242.689259\n",
      "Country Finland has a GDP of 27570.4852\n",
      "Country France has a GDP of 23016.84778\n",
      "Country Georgia has a GDP of 1334.646773\n",
      "Country Ghana has a GDP of 402.6953275\n",
      "Country Grenada has a GDP of 6047.200797\n",
      "Country Guinea has a GDP of 394.1156638\n",
      "Country Haiti has a GDP of 385.5793827\n",
      "Country Honduras has a GDP of 1414.072488\n",
      "Country Hungary has a GDP of 5745.981529\n",
      "Country India has a GDP of 837.7464011\n",
      "Country Indonesia has a GDP of 1206.991065\n",
      "Country Ireland has a GDP of 27715.52837\n",
      "Country Italy has a GDP of 18937.24998\n",
      "Country Japan has a GDP of 39578.07441\n",
      "Country Kenya has a GDP of 478.2194906\n",
      "Country South Korea has a GDP of 16684.21278\n",
      "Country Liberia has a GDP of 279.2204061\n",
      "Country Malaysia has a GDP of 5345.213415\n",
      "Country Mexico has a GDP of 6288.25324\n",
      "Country Morocco has a GDP of 1908.304416\n",
      "Country Nepal has a GDP of 274.8728621\n",
      "Country New Zealand has a GDP of 14646.42094\n",
      "Country Norway has a GDP of 40034.85063\n",
      "Country Pakistan has a GDP of 672.1547506\n",
      "Country Peru has a GDP of 3359.517402\n",
      "Country Qatar has a GDP of 36152.66676\n",
      "Country Russia has a GDP of 3054.727742\n",
      "Country Singapore has a GDP of 33529.83052\n",
      "Country South Africa has a GDP of 3825.093781\n",
      "Country Spain has a GDP of 15428.32098\n",
      "Country Sweden has a GDP of 33630.24604\n",
      "Country Switzerland has a GDP of 39170.41371\n",
      "Country Thailand has a GDP of 2699.123242\n",
      "Country United Arab Emirates has a GDP of 21058.43643\n",
      "Country United Kingdom has a GDP of 28272.40661\n",
      "Country United States has a GDP of 37691.02733\n",
      "Country Uruguay has a GDP of 9581.05659\n",
      "Country Venezuela has a GDP of 5671.912202\n",
      "Country Vietnam has a GDP of 757.4009286\n",
      "Country Zimbabwe has a GDP of 347.7456605\n"
     ]
    }
   ],
   "source": [
    "#Use a for loop to print the required list\n",
    "for i in range(len(countries)):\n",
    "    country = countries[i]\n",
    "    country_gdp = gdp[i]\n",
    "    print('Country', country, 'has a GDP of', country_gdp)"
   ]
  },
  {
   "cell_type": "markdown",
   "metadata": {},
   "source": [
    "#### 6: Print the following:\n",
    "1. Highest GPD value\n",
    "2. Lowest GDP value\n",
    "3. Mean GDP value\n",
    "4. Standardized GDP value\n",
    "5. Sum of all the GDPs"
   ]
  },
  {
   "cell_type": "code",
   "execution_count": 38,
   "metadata": {},
   "outputs": [
    {
     "name": "stdout",
     "output_type": "stream",
     "text": [
      "40034.85063\n"
     ]
    }
   ],
   "source": [
    "print(gdp.max())"
   ]
  },
  {
   "cell_type": "code",
   "execution_count": 39,
   "metadata": {},
   "outputs": [
    {
     "name": "stdout",
     "output_type": "stream",
     "text": [
      "229.6769525\n"
     ]
    }
   ],
   "source": [
    "print(gdp.min())"
   ]
  },
  {
   "cell_type": "code",
   "execution_count": 40,
   "metadata": {},
   "outputs": [
    {
     "name": "stdout",
     "output_type": "stream",
     "text": [
      "11289.409271639683\n"
     ]
    }
   ],
   "source": [
    "print(gdp.mean())"
   ]
  },
  {
   "cell_type": "code",
   "execution_count": 41,
   "metadata": {},
   "outputs": [
    {
     "name": "stdout",
     "output_type": "stream",
     "text": [
      "12743.828910617945\n"
     ]
    }
   ],
   "source": [
    "print(gdp.std())"
   ]
  },
  {
   "cell_type": "code",
   "execution_count": 42,
   "metadata": {},
   "outputs": [
    {
     "name": "stdout",
     "output_type": "stream",
     "text": [
      "711232.7841133\n"
     ]
    }
   ],
   "source": [
    "print(gdp.sum())"
   ]
  },
  {
   "cell_type": "code",
   "execution_count": null,
   "metadata": {},
   "outputs": [],
   "source": []
  }
 ],
 "metadata": {
  "kernelspec": {
   "display_name": "Python 3",
   "language": "python",
   "name": "python3"
  },
  "language_info": {
   "codemirror_mode": {
    "name": "ipython",
    "version": 3
   },
   "file_extension": ".py",
   "mimetype": "text/x-python",
   "name": "python",
   "nbconvert_exporter": "python",
   "pygments_lexer": "ipython3",
   "version": "3.8.5"
  }
 },
 "nbformat": 4,
 "nbformat_minor": 1
}
